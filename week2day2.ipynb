{
 "cells": [
  {
   "cell_type": "code",
   "execution_count": 2,
   "id": "874d8fa2",
   "metadata": {},
   "outputs": [
    {
     "name": "stdout",
     "output_type": "stream",
     "text": [
      "Total words: 121\n"
     ]
    }
   ],
   "source": [
    "def countwords(filename):\n",
    "    try:\n",
    "        with open(filename, 'r', encoding='utf-8') as file:\n",
    "            text = file.read()\n",
    "            words = text.split()\n",
    "            return len(words)\n",
    "    except FileNotFoundError:\n",
    "        return \"File not found!\"\n",
    "    except Exception as e:\n",
    "        return f\"Error: {e}\"\n",
    "    \n",
    "filename = \"week2day2.ipynb\"\n",
    "print(\"Total words:\", countwords(filename))\n"
   ]
  },
  {
   "cell_type": "code",
   "execution_count": 6,
   "id": "448e5f5f",
   "metadata": {},
   "outputs": [
    {
     "name": "stdout",
     "output_type": "stream",
     "text": [
      "True\n"
     ]
    }
   ],
   "source": [
    "def isstrong(password):\n",
    "    if len(password)<8:\n",
    "        return False\n",
    "    \n",
    "    has_upper = False\n",
    "    has_lower = False\n",
    "    has_digit = False\n",
    "    has_special = False\n",
    "    \n",
    "    special_characters = \"!@#$%^&*(),.?\\\":{}|<>\"\n",
    "    \n",
    "    for char in password:\n",
    "        if char.isupper():\n",
    "            has_upper = True\n",
    "        elif char.islower():\n",
    "            has_lower = True\n",
    "        elif char.isdigit():\n",
    "            has_digit = True\n",
    "        elif char in special_characters:\n",
    "            has_special = True\n",
    "    \n",
    "    return has_upper and has_lower and has_digit and has_special\n",
    "\n",
    "password=\"efCAsd1$\"\n",
    "print(isstrong(password))\n"
   ]
  },
  {
   "cell_type": "code",
   "execution_count": 7,
   "id": "fc8b9375",
   "metadata": {},
   "outputs": [
    {
     "name": "stdout",
     "output_type": "stream",
     "text": [
      "15\n",
      "5\n",
      "50\n",
      "2.0\n",
      "Invalid operator\n"
     ]
    }
   ],
   "source": [
    "def calculator(a, b, o):\n",
    "    if o == '+':\n",
    "        return a + b\n",
    "    elif o == '-':\n",
    "        return a - b\n",
    "    elif o == '*':\n",
    "        return a * b\n",
    "    elif o == '/':\n",
    "        if b == 0:\n",
    "            return \"Error: Division by zero\"\n",
    "        return a / b\n",
    "    else:\n",
    "        return \"Invalid operator\"\n",
    "\n",
    "\n",
    "\n",
    "print(calculator(10, 5, '+'))\n",
    "print(calculator(10, 5, '-'))\n",
    "print(calculator(10, 5, '*'))\n",
    "print(calculator(10, 5, '/'))\n",
    "print(calculator(10, 0, '^'))\n"
   ]
  },
  {
   "cell_type": "code",
   "execution_count": 14,
   "id": "a93f6a6f",
   "metadata": {},
   "outputs": [
    {
     "name": "stdout",
     "output_type": "stream",
     "text": [
      "{'abhi'}\n"
     ]
    }
   ],
   "source": [
    "from collections import Counter\n",
    "def dup(words):\n",
    "    set1=set()\n",
    "    freq=Counter(words)\n",
    "    for key,val in freq.items():\n",
    "        if val>1:\n",
    "            set1.add(key)\n",
    "    return set1\n",
    "\n",
    "words=[\"abhi\",\"ravi\",\"abhi\"]\n",
    "print(dup(words))"
   ]
  },
  {
   "cell_type": "code",
   "execution_count": 22,
   "id": "34ab837d",
   "metadata": {},
   "outputs": [
    {
     "name": "stdout",
     "output_type": "stream",
     "text": [
      "98.6\n",
      "37.77777777777778\n"
     ]
    }
   ],
   "source": [
    "def ctof(c):\n",
    "    return (c * 9/5)+32\n",
    "\n",
    "def ftoc(f):\n",
    "    return (f-32)*5/9\n",
    "\n",
    "\n",
    "print(ctof(37))\n",
    "print(ftoc(100))\n"
   ]
  },
  {
   "cell_type": "code",
   "execution_count": 23,
   "id": "8608c173",
   "metadata": {},
   "outputs": [
    {
     "name": "stdout",
     "output_type": "stream",
     "text": [
      "90\n"
     ]
    }
   ],
   "source": [
    "def largest(words):\n",
    "    return max(words)\n",
    "\n",
    "words=[1,2,3,78,6,90]\n",
    "print(largest(words))"
   ]
  },
  {
   "cell_type": "code",
   "execution_count": 24,
   "id": "41b9af37",
   "metadata": {},
   "outputs": [
    {
     "name": "stdout",
     "output_type": "stream",
     "text": [
      "120.0\n"
     ]
    }
   ],
   "source": [
    "def simplein(p,t,r):\n",
    "    return (p*t*r)/100\n",
    "\n",
    "print(simplein(2000,2,3))"
   ]
  },
  {
   "cell_type": "code",
   "execution_count": 26,
   "id": "f190286b",
   "metadata": {},
   "outputs": [
    {
     "name": "stdout",
     "output_type": "stream",
     "text": [
      "['ravi', 'jack']\n"
     ]
    }
   ],
   "source": [
    "def defaulters(students):\n",
    "    list1=[]\n",
    "    for key,val in students.items():\n",
    "        if val<75:\n",
    "            list1.append(key)\n",
    "    return list1\n",
    "\n",
    "list1={\"abhi\":76,\"ravi\":65,\"jack\":60}\n",
    "print(defaulters(list1))"
   ]
  },
  {
   "cell_type": "code",
   "execution_count": 28,
   "id": "fe783e1e",
   "metadata": {},
   "outputs": [
    {
     "name": "stdout",
     "output_type": "stream",
     "text": [
      "17\n",
      "10\n"
     ]
    }
   ],
   "source": [
    "def sumofdigits(n):\n",
    "    sum=0\n",
    "    while n>0:\n",
    "        digit=n%10\n",
    "        sum=sum+digit\n",
    "        n=n//10\n",
    "\n",
    "    return sum \n",
    "\n",
    "print(sumofdigits(890))\n",
    "print(sumofdigits(1234))"
   ]
  },
  {
   "cell_type": "code",
   "execution_count": 29,
   "id": "9be0f5a1",
   "metadata": {},
   "outputs": [
    {
     "name": "stdout",
     "output_type": "stream",
     "text": [
      "True\n"
     ]
    }
   ],
   "source": [
    "def is_prime(n):\n",
    "    if n <= 1:\n",
    "        return False\n",
    "    if n == 2:\n",
    "        return True\n",
    "    if n % 2 == 0:\n",
    "        return False\n",
    "    for i in range(3, int(n**0.5) + 1, 2):\n",
    "        if n % i == 0:\n",
    "            return False\n",
    "    return True\n",
    "\n",
    "\n",
    "print(is_prime(23))\n"
   ]
  },
  {
   "cell_type": "code",
   "execution_count": 1,
   "id": "237d5d43",
   "metadata": {},
   "outputs": [
    {
     "name": "stdout",
     "output_type": "stream",
     "text": [
      "1\n",
      "5\n"
     ]
    }
   ],
   "source": [
    "def small(words):\n",
    "    return min(words)\n",
    "def large(words):\n",
    "    return max(words)\n",
    "\n",
    "words=[1,2,3,4,5]\n",
    "print(small(words))\n",
    "print(large(words))"
   ]
  },
  {
   "cell_type": "code",
   "execution_count": null,
   "id": "4a510d1e",
   "metadata": {},
   "outputs": [
    {
     "name": "stdout",
     "output_type": "stream",
     "text": [
      "95\n"
     ]
    }
   ],
   "source": [
    "def totalbill(things):\n",
    "    sum=0\n",
    "    for key,val in things.items():\n",
    "        sum=sum+val\n",
    "    return sum\n",
    "\n",
    "dict={\"pen\":10,\"book\":35,\"bag\":50}\n",
    "print(totalbill(dict))"
   ]
  },
  {
   "cell_type": "code",
   "execution_count": 7,
   "id": "7d312df3",
   "metadata": {},
   "outputs": [
    {
     "name": "stdout",
     "output_type": "stream",
     "text": [
      "Largest number is: 4\n"
     ]
    }
   ],
   "source": [
    "a = int(input(\"Enter first number: \"))\n",
    "b = int(input(\"Enter second number: \"))\n",
    "c = int(input(\"Enter third number: \"))\n",
    "\n",
    "print(\"Largest number is:\", max(a, b, c))\n"
   ]
  },
  {
   "cell_type": "code",
   "execution_count": 12,
   "id": "4373efcf",
   "metadata": {},
   "outputs": [
    {
     "name": "stdout",
     "output_type": "stream",
     "text": [
      "Character frequencies: Counter({'l': 2, 'h': 1, 'w': 1, 'e': 1, 'o': 1})\n"
     ]
    }
   ],
   "source": [
    "from collections import Counter\n",
    "text = input(\"Enter a string: \")\n",
    "freq = Counter(text)\n",
    "print(\"Character frequencies:\", freq)\n"
   ]
  },
  {
   "cell_type": "code",
   "execution_count": 15,
   "id": "b8c3f9d8",
   "metadata": {},
   "outputs": [
    {
     "name": "stdout",
     "output_type": "stream",
     "text": [
      "Bill for 50 units: 250\n",
      "Bill for 150 units: 850\n",
      "Bill for 250 units: 1700\n"
     ]
    }
   ],
   "source": [
    "def electricity_bill(units):\n",
    "    if units <= 100:\n",
    "        bill = units * 5\n",
    "    elif units <= 200:\n",
    "        bill = (100 * 5) + (units - 100) * 7\n",
    "    else:\n",
    "        bill = (100 * 5) + (100 * 7) + (units - 200) * 10\n",
    "    return bill\n",
    "\n",
    "print(\"Bill for 50 units:\", electricity_bill(50))\n",
    "print(\"Bill for 150 units:\", electricity_bill(150))\n",
    "print(\"Bill for 250 units:\", electricity_bill(250)) \n"
   ]
  },
  {
   "cell_type": "code",
   "execution_count": 22,
   "id": "33d0a112",
   "metadata": {},
   "outputs": [
    {
     "name": "stdout",
     "output_type": "stream",
     "text": [
      "['abhi', 'jack', 'ravi']\n"
     ]
    }
   ],
   "source": [
    "words=[\"abhi\",\"jack\",\"ravi\"]\n",
    "words.sort()\n",
    "print(words)"
   ]
  },
  {
   "cell_type": "code",
   "execution_count": 24,
   "id": "e35e0360",
   "metadata": {},
   "outputs": [
    {
     "name": "stdout",
     "output_type": "stream",
     "text": [
      "6521\n"
     ]
    }
   ],
   "source": [
    "n = input()\n",
    "rev = int(str(n)[::-1])\n",
    "print(rev)"
   ]
  },
  {
   "cell_type": "code",
   "execution_count": 25,
   "id": "e5505f3b",
   "metadata": {},
   "outputs": [
    {
     "name": "stdout",
     "output_type": "stream",
     "text": [
      "Positive numbers: 3\n",
      "Negative numbers: 2\n",
      "Zeros: 2\n"
     ]
    }
   ],
   "source": [
    "def countnumbers(lst):\n",
    "    pos=neg=zero=0\n",
    "    \n",
    "    for num in lst:\n",
    "        if num > 0:\n",
    "            pos += 1\n",
    "        elif num < 0:\n",
    "            neg += 1\n",
    "        else:\n",
    "            zero += 1\n",
    "    \n",
    "    return pos, neg, zero\n",
    "\n",
    "\n",
    "nums = [3,-1,0,7,-5,0,8]\n",
    "pos, neg, zero = countnumbers(nums)\n",
    "\n",
    "print(\"Positive numbers:\", pos)\n",
    "print(\"Negative numbers:\", neg)\n",
    "print(\"Zeros:\", zero)\n"
   ]
  },
  {
   "cell_type": "code",
   "execution_count": 1,
   "id": "d259d398",
   "metadata": {},
   "outputs": [
    {
     "name": "stdout",
     "output_type": "stream",
     "text": [
      "Incorrect PIN.\n",
      "Try again.\n",
      "PIN accepted\n"
     ]
    }
   ],
   "source": [
    "correct_pin = \"1234\"\n",
    "attempts = 3\n",
    "\n",
    "for i in range(attempts):\n",
    "    entered_pin = input(\"Enter your PIN: \")\n",
    "    \n",
    "    if entered_pin == correct_pin:\n",
    "        print(\"PIN accepted\")\n",
    "        break\n",
    "    else:\n",
    "        print(\"Incorrect PIN.\")\n",
    "        remaining = attempts - (i + 1)\n",
    "        if remaining > 0:\n",
    "            print(f\"Try again.\")\n",
    "        else:\n",
    "            print(\"No attempts left.\")\n",
    "\n",
    "\n"
   ]
  },
  {
   "cell_type": "code",
   "execution_count": 2,
   "id": "35a7dce6",
   "metadata": {},
   "outputs": [
    {
     "name": "stdout",
     "output_type": "stream",
     "text": [
      "The result of 6.0 divided by 12.0 is 0.5\n"
     ]
    }
   ],
   "source": [
    "try:\n",
    "    num1 = 6.0\n",
    "    num2 = 12.0\n",
    "    \n",
    "    result = num1 / num2\n",
    "    print(f\"The result of {num1} divided by {num2} is {result}\")\n",
    "\n",
    "except ZeroDivisionError:\n",
    "    print(\"Error: Cannot divide by zero!\")\n",
    "\n",
    "except ValueError:\n",
    "    print(\"Error: Please enter valid numbers.\")\n"
   ]
  },
  {
   "cell_type": "code",
   "execution_count": 7,
   "id": "eebdffd5",
   "metadata": {},
   "outputs": [
    {
     "name": "stdout",
     "output_type": "stream",
     "text": [
      "Remaining balance: ₹400.0\n"
     ]
    }
   ],
   "source": [
    "balance = 1000\n",
    "try:\n",
    "    amount = float(input(\"Enter amount\"))\n",
    "    \n",
    "    if amount > balance:\n",
    "        print(\"Error:\")\n",
    "    \n",
    "    balance -= amount\n",
    "    print(f\"Remaining balance: ₹{balance}\")\n",
    "\n",
    "except ValueError:\n",
    "    print(\"Error\")"
   ]
  },
  {
   "cell_type": "code",
   "execution_count": 5,
   "id": "ff45bdeb",
   "metadata": {},
   "outputs": [
    {
     "name": "stdout",
     "output_type": "stream",
     "text": [
      "Total bill: ₹100.0\n",
      "Bill processing finished.\n"
     ]
    }
   ],
   "source": [
    "try:\n",
    "    units = 20.0\n",
    "    \n",
    "    if units < 0:\n",
    "        raise ValueError(\"Units cannot be negative\")\n",
    "    \n",
    "    if units <= 100:\n",
    "        bill = units * 5\n",
    "    elif units <= 200:\n",
    "        bill = 100*5 + (units-100)*7\n",
    "    else:\n",
    "        bill = 100*5 + 100*7 + (units-200)*10\n",
    "    \n",
    "    print(f\"Total bill: ₹{bill}\")\n",
    "\n",
    "except ValueError as e:\n",
    "    print(\"Invalid input:\", e)\n",
    "\n",
    "finally:\n",
    "    print(\"Bill processing finished.\")"
   ]
  }
 ],
 "metadata": {
  "kernelspec": {
   "display_name": "Python 3",
   "language": "python",
   "name": "python3"
  },
  "language_info": {
   "codemirror_mode": {
    "name": "ipython",
    "version": 3
   },
   "file_extension": ".py",
   "mimetype": "text/x-python",
   "name": "python",
   "nbconvert_exporter": "python",
   "pygments_lexer": "ipython3",
   "version": "3.11.0"
  }
 },
 "nbformat": 4,
 "nbformat_minor": 5
}
