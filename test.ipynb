{
 "cells": [
  {
   "cell_type": "code",
   "execution_count": 1,
   "id": "1be471c0",
   "metadata": {},
   "outputs": [
    {
     "name": "stdout",
     "output_type": "stream",
     "text": [
      "10\n"
     ]
    }
   ],
   "source": [
    "print(10)\n"
   ]
  },
  {
   "cell_type": "code",
   "execution_count": 2,
   "id": "e1910ff2",
   "metadata": {},
   "outputs": [
    {
     "name": "stdout",
     "output_type": "stream",
     "text": [
      "13\n"
     ]
    }
   ],
   "source": [
    "a=10+3\n",
    "print(a)"
   ]
  },
  {
   "cell_type": "code",
   "execution_count": 60,
   "id": "a565c5f3",
   "metadata": {},
   "outputs": [
    {
     "name": "stdout",
     "output_type": "stream",
     "text": [
      "10\n",
      "12\n"
     ]
    }
   ],
   "source": [
    "b=int(input(\"Enter the value of b\"))\n",
    "a,b=b,a\n",
    "print(a)\n",
    "print(b)\n"
   ]
  },
  {
   "cell_type": "code",
   "execution_count": 7,
   "id": "caaad6af",
   "metadata": {},
   "outputs": [
    {
     "name": "stdout",
     "output_type": "stream",
     "text": [
      "ihdinirs\n"
     ]
    }
   ],
   "source": [
    "s=input(\"Enter the value of String\")\n",
    "rev=\"\"\n",
    "n=len(s)\n",
    "for i in range(n):\n",
    "    rev=rev+s[n-i-1]\n",
    "print(rev)"
   ]
  },
  {
   "cell_type": "code",
   "execution_count": 8,
   "id": "0782bbdf",
   "metadata": {},
   "outputs": [
    {
     "name": "stdout",
     "output_type": "stream",
     "text": [
      "3\n"
     ]
    }
   ],
   "source": [
    "def fibonacci(n):\n",
    "    if n<0:\n",
    "        print(\"Incorrect input\")\n",
    "    elif n==0:\n",
    "        return 0\n",
    "    elif n==1 or n==2:\n",
    "        return 1\n",
    "    else:\n",
    "        return fibonacci(n-1)+fibonacci(n-2)\n",
    "    \n",
    "\n",
    "print(fibonacci(4))"
   ]
  },
  {
   "cell_type": "code",
   "execution_count": 9,
   "id": "05237f0b",
   "metadata": {},
   "outputs": [
    {
     "name": "stdout",
     "output_type": "stream",
     "text": [
      "0 1 1 2 "
     ]
    }
   ],
   "source": [
    "n=int(input(\"Enter the value\"))\n",
    "a,b=0,1\n",
    "for _ in range(n):\n",
    "    print(a,end=\" \")\n",
    "    a,b=b,a+b"
   ]
  },
  {
   "cell_type": "code",
   "execution_count": 10,
   "id": "952a6b5a",
   "metadata": {},
   "outputs": [
    {
     "name": "stdout",
     "output_type": "stream",
     "text": [
      "even\n"
     ]
    }
   ],
   "source": [
    "num=int(input(\"Enter the value\"))\n",
    "\n",
    "if num%2==0:\n",
    "    print(\"even\")\n",
    "else:\n",
    "    print(\"odd\")"
   ]
  },
  {
   "cell_type": "code",
   "execution_count": 11,
   "id": "d8e414b1",
   "metadata": {},
   "outputs": [
    {
     "name": "stdout",
     "output_type": "stream",
     "text": [
      "C\n"
     ]
    }
   ],
   "source": [
    "a=10\n",
    "b=20\n",
    "c=30\n",
    "if a>b:\n",
    "    if a>c:\n",
    "        print(\"A\")\n",
    "    else:\n",
    "        print(\"C\")\n",
    "elif b>c:\n",
    "    print(\"B\")\n",
    "else:\n",
    "    print(\"C\")"
   ]
  },
  {
   "cell_type": "code",
   "execution_count": 13,
   "id": "7c111145",
   "metadata": {},
   "outputs": [
    {
     "name": "stdout",
     "output_type": "stream",
     "text": [
      "120\n"
     ]
    }
   ],
   "source": [
    "n=5\n",
    "fact=1\n",
    "for i in range(1,n+1):\n",
    "    fact=fact*i\n",
    "print(fact)"
   ]
  },
  {
   "cell_type": "code",
   "execution_count": 14,
   "id": "cc31fbc1",
   "metadata": {},
   "outputs": [
    {
     "name": "stdout",
     "output_type": "stream",
     "text": [
      "200\n"
     ]
    }
   ],
   "source": [
    "item1_price=int(input(\"Enter the price \"))\n",
    "item1_quantity=int(input(\"Enter the quantity\"))\n",
    "\n",
    "item2_price=int(input(\"Enter the price \"))\n",
    "item2_quantity=int(input(\"Enter the quantity\"))\n",
    "\n",
    "total_bill=((item1_price*item1_quantity)+(item1_price*item1_quantity))\n",
    "\n",
    "print(total_bill)"
   ]
  },
  {
   "cell_type": "code",
   "execution_count": 15,
   "id": "9d4e5be7",
   "metadata": {},
   "outputs": [
    {
     "name": "stdout",
     "output_type": "stream",
     "text": [
      "80\n"
     ]
    }
   ],
   "source": [
    "n=int(input())\n",
    "summ=0\n",
    "for i in range(n):\n",
    "    a=int(input())\n",
    "    q=int(input())\n",
    "    sum=a*q\n",
    "    summ=sum+summ\n",
    "\n",
    "print(summ)"
   ]
  },
  {
   "cell_type": "code",
   "execution_count": 16,
   "id": "d366f880",
   "metadata": {},
   "outputs": [
    {
     "name": "stdout",
     "output_type": "stream",
     "text": [
      "Addition = 15\n",
      "Subtraction = -5\n",
      "Multiplication = 50\n",
      "Division = 0.5\n",
      "Modulus = 5\n"
     ]
    }
   ],
   "source": [
    "a=int(input(\"Enter a\"))\n",
    "b=int(input(\"enter b\"))\n",
    "\n",
    "print(\"Addition =\", a + b)\n",
    "print(\"Subtraction =\", a - b)\n",
    "print(\"Multiplication =\", a * b)\n",
    "print(\"Division =\", a / b if b != 0 else \"Not possible\")\n",
    "print(\"Modulus =\", a % b if b != 0 else \"Not possible\")\n"
   ]
  },
  {
   "cell_type": "code",
   "execution_count": 17,
   "id": "c8116d24",
   "metadata": {},
   "outputs": [
    {
     "name": "stdout",
     "output_type": "stream",
     "text": [
      "Grade: A+ (Outstanding)\n"
     ]
    }
   ],
   "source": [
    "m = int(input(\"Enter marks: \"))\n",
    "\n",
    "if m>= 90:\n",
    "    grade = \"A+ (Outstanding)\"\n",
    "elif m>= 80:\n",
    "    grade = \"A (Excellent)\"\n",
    "elif m>= 70:\n",
    "    grade = \"B (Good)\"\n",
    "elif m>= 60:\n",
    "    grade = \"C (Average)\"\n",
    "else:\n",
    "    grade = \"Fail\"\n",
    "\n",
    "print(\"Grade:\", grade)\n"
   ]
  },
  {
   "cell_type": "code",
   "execution_count": 21,
   "id": "5ea122d9",
   "metadata": {},
   "outputs": [
    {
     "name": "stdout",
     "output_type": "stream",
     "text": [
      "Highest Marks = 90\n",
      "Lowest Marks = 45\n",
      "Average Marks = 71.4\n"
     ]
    }
   ],
   "source": [
    "marks = [45, 78, 88, 56, 90]\n",
    "\n",
    "highest = max(marks)\n",
    "lowest = min(marks)\n",
    "l=len(marks)\n",
    "total=0\n",
    "for n in marks:\n",
    "    total=total+n\n",
    "\n",
    "average =total/l\n",
    "\n",
    "print(\"Highest Marks =\", highest)\n",
    "print(\"Lowest Marks =\", lowest)\n",
    "print(\"Average Marks =\",average)\n"
   ]
  },
  {
   "cell_type": "code",
   "execution_count": 22,
   "id": "b6216298",
   "metadata": {},
   "outputs": [
    {
     "name": "stdout",
     "output_type": "stream",
     "text": [
      "9123456780\n"
     ]
    }
   ],
   "source": [
    "Phonebook = {\"Suhel\": 9876543210, \"Ravi\": 9123456780, \"Anita\": 9988776655}\n",
    "name=input(\"ENter search name\")\n",
    "\n",
    "if name in Phonebook:\n",
    "    print(Phonebook[name])\n",
    "else:\n",
    "    print(\"Not found\")"
   ]
  },
  {
   "cell_type": "code",
   "execution_count": 54,
   "id": "9c1bee03",
   "metadata": {},
   "outputs": [
    {
     "name": "stdout",
     "output_type": "stream",
     "text": [
      "Total Words = 1\n",
      "Total Characters = 8\n",
      "Total Vowels = 3\n"
     ]
    }
   ],
   "source": [
    "sentence = input(\"Enter sentence: \")\n",
    "words = sentence.split()\n",
    "word_count = len(words)\n",
    "char_count = len(sentence)\n",
    "vowels = \"aeiouAEIOU\"\n",
    "vowel_count = 0\n",
    "for ch in sentence:\n",
    "    if ch in vowels:\n",
    "        vowel_count += 1\n",
    "print(\"Total Words =\", word_count)\n",
    "print(\"Total Characters =\", char_count)\n",
    "print(\"Total Vowels =\", vowel_count)\n"
   ]
  },
  {
   "cell_type": "code",
   "execution_count": 55,
   "id": "340a4100",
   "metadata": {},
   "outputs": [
    {
     "name": "stdout",
     "output_type": "stream",
     "text": [
      "Compound Interest = 6090.00\n",
      "Total Amount = 106090.00\n"
     ]
    }
   ],
   "source": [
    "p = float(input(\"Principal: \"))\n",
    "r = float(input(\"Rate (%): \"))\n",
    "t = float(input(\"Time (years): \"))\n",
    "itype = input(\"Interest Type (Simple/Compound): \").lower()\n",
    "\n",
    "if itype == \"simple\":\n",
    "    si = (p * r * t) / 100\n",
    "    print(f\"Simple Interest = {si:.2f}\")\n",
    "    print(f\"Total Amount = {p + si:.2f}\")\n",
    "else:\n",
    "    ca = p * (1 + r/100) ** t\n",
    "    print(f\"Compound Interest = {ca - p:.2f}\")\n",
    "    print(f\"Total Amount = {ca:.2f}\")\n"
   ]
  },
  {
   "cell_type": "code",
   "execution_count": 56,
   "id": "ba9e9b1a",
   "metadata": {},
   "outputs": [
    {
     "name": "stdout",
     "output_type": "stream",
     "text": [
      "Encrypted Message: KHOOR\n"
     ]
    }
   ],
   "source": [
    "message = input(\"Enter Message: \").upper()\n",
    "shift = int(input(\"Enter Shift: \"))\n",
    "\n",
    "encrypted = \"\"\n",
    "\n",
    "for ch in message:\n",
    "    if ch.isalpha():\n",
    "        encrypted += chr((ord(ch) - 65 + shift) % 26 + 65)\n",
    "    else:\n",
    "        encrypted += ch\n",
    "\n",
    "print(\"Encrypted Message:\", encrypted)\n"
   ]
  },
  {
   "cell_type": "code",
   "execution_count": 57,
   "id": "92ad3c7f",
   "metadata": {},
   "outputs": [
    {
     "name": "stdout",
     "output_type": "stream",
     "text": [
      "PIN Verified.\n",
      "Withdrawal Successful. Remaining Balance = 3000.00\n"
     ]
    }
   ],
   "source": [
    "\n",
    "correct_pin = 1234\n",
    "balance = 5000\n",
    "pin = int(input(\"Enter PIN: \"))\n",
    "\n",
    "if pin == correct_pin:\n",
    "    print(\"PIN Verified.\")\n",
    "    withdraw = float(input(\"Enter amount to withdraw: \"))\n",
    "    \n",
    "    if withdraw <= balance:\n",
    "        balance -= withdraw\n",
    "        print(f\"Withdrawal Successful. Remaining Balance = {balance:.2f}\")\n",
    "    else:\n",
    "        print(\"Insufficient Balance.\")\n",
    "else:\n",
    "    print(\"Invalid PIN.\")\n"
   ]
  },
  {
   "cell_type": "code",
   "execution_count": 58,
   "id": "a0c328a7",
   "metadata": {},
   "outputs": [
    {
     "name": "stdout",
     "output_type": "stream",
     "text": [
      "Current Books: ['Python Basics', 'AI Fundamentals', 'Machine Learning']\n",
      "Total Books: 3\n"
     ]
    }
   ],
   "source": [
    "books = [\"Python Basics\", \"Data Science\", \"AI Fundamentals\"]\n",
    "add_book = \"Machine Learning\"\n",
    "books.append(add_book)\n",
    "remove_book = \"Data Science\"\n",
    "if remove_book in books:\n",
    "    books.remove(remove_book)\n",
    "\n",
    "print(\"Current Books:\", books)\n",
    "print(\"Total Books:\", len(books))\n"
   ]
  }
 ],
 "metadata": {
  "kernelspec": {
   "display_name": "Python 3",
   "language": "python",
   "name": "python3"
  },
  "language_info": {
   "codemirror_mode": {
    "name": "ipython",
    "version": 3
   },
   "file_extension": ".py",
   "mimetype": "text/x-python",
   "name": "python",
   "nbconvert_exporter": "python",
   "pygments_lexer": "ipython3",
   "version": "3.11.0"
  }
 },
 "nbformat": 4,
 "nbformat_minor": 5
}
