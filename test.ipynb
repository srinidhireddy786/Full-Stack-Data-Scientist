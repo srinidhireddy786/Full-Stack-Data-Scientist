{
 "cells": [
  {
   "cell_type": "code",
   "execution_count": null,
   "id": "86e3138d",
   "metadata": {},
   "outputs": [
    {
     "name": "stdout",
     "output_type": "stream",
     "text": [
      "30\n",
      "200\n"
     ]
    }
   ],
   "source": [
    "a=int(input())\n",
    "b=int(input())\n",
    "print(a+b)\n",
    "print(a*b)"
   ]
  },
  {
   "cell_type": "code",
   "execution_count": null,
   "id": "ee33b503",
   "metadata": {},
   "outputs": [
    {
     "name": "stdout",
     "output_type": "stream",
     "text": [
      "ih\n"
     ]
    }
   ],
   "source": [
    "s=input(\"enter string\")\n",
    "rev=\"\"\n",
    "for i in range(len(s)-1,-1,-1):\n",
    "    rev=rev+s[i]\n",
    "print(rev)"
   ]
  },
  {
   "cell_type": "code",
   "execution_count": 15,
   "id": "991e5395",
   "metadata": {},
   "outputs": [
    {
     "name": "stdout",
     "output_type": "stream",
     "text": [
      "False\n"
     ]
    }
   ],
   "source": [
    "num = input(\"Enter: \")\n",
    "n = len(num)\n",
    "sum = 0\n",
    "a = int(num)\n",
    "original = a \n",
    "\n",
    "while n > 0:\n",
    "    digits = a % 10\n",
    "    sum += digits ** n\n",
    "    a //= 10\n",
    "    n -= 1\n",
    "\n",
    "if sum == original:\n",
    "    print(True)\n",
    "else:\n",
    "    print(False)\n"
   ]
  }
 ],
 "metadata": {
  "kernelspec": {
   "display_name": "venv",
   "language": "python",
   "name": "python3"
  },
  "language_info": {
   "codemirror_mode": {
    "name": "ipython",
    "version": 3
   },
   "file_extension": ".py",
   "mimetype": "text/x-python",
   "name": "python",
   "nbconvert_exporter": "python",
   "pygments_lexer": "ipython3",
   "version": "3.11.0"
  }
 },
 "nbformat": 4,
 "nbformat_minor": 5
}
