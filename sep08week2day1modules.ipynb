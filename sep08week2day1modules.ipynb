{
 "cells": [
  {
   "cell_type": "code",
   "execution_count": 4,
   "id": "d27c6ebd",
   "metadata": {},
   "outputs": [
    {
     "name": "stdout",
     "output_type": "stream",
     "text": [
      "q[*!2\n"
     ]
    }
   ],
   "source": [
    "import string\n",
    "import random\n",
    "\n",
    "def genpassword(l=6):\n",
    "   characters=string.ascii_letters+string.digits+string.punctuation\n",
    "   password=''.join(random.choice(characters)for _ in range(l))\n",
    "   return password\n",
    "\n",
    "print(genpassword(5))"
   ]
  },
  {
   "cell_type": "code",
   "execution_count": 5,
   "id": "05b11708",
   "metadata": {},
   "outputs": [
    {
     "name": "stdout",
     "output_type": "stream",
     "text": [
      "120\n",
      "0.08715574274765817\n"
     ]
    }
   ],
   "source": [
    "import math\n",
    "\n",
    "def simplecalc(text,value):\n",
    "    if text==\"factorial\":\n",
    "        return math.factorial(value)\n",
    "    elif text==\"squareroot\":\n",
    "        return math.sqrt(25)\n",
    "    elif text==\"sin\":\n",
    "        return math.sin(math.radians(value))\n",
    "    elif text==\"cos\":\n",
    "        return math.cos(math.radians(value))\n",
    "    \n",
    "print(simplecalc(\"factorial\",5))\n",
    "print(simplecalc(\"sin\",5))"
   ]
  },
  {
   "cell_type": "code",
   "execution_count": 7,
   "id": "d94cb278",
   "metadata": {},
   "outputs": [
    {
     "name": "stdout",
     "output_type": "stream",
     "text": [
      "{'hello': 2, 'parents': 1, 'and': 1, 'children': 1}\n"
     ]
    }
   ],
   "source": [
    "from collections import Counter\n",
    "\n",
    "def wordfreq(text):\n",
    "    words=text.split()\n",
    "    freq=Counter(words)\n",
    "    return dict(freq)\n",
    "\n",
    "print(wordfreq(\"hello parents and hello children\"))\n"
   ]
  },
  {
   "cell_type": "code",
   "execution_count": 9,
   "id": "a0b99d49",
   "metadata": {},
   "outputs": [
    {
     "name": "stdout",
     "output_type": "stream",
     "text": [
      "weather:rainy,temperature:24\n"
     ]
    }
   ],
   "source": [
    "import random\n",
    "def weather_simulator():\n",
    "    weather=[\"sunny\",\"rainy\",\"cloudy\"]\n",
    "    wea=random.choice(weather)\n",
    "    temp=random.randint(15,40)\n",
    "    return f\"weather:{wea},temperature:{temp}\"\n",
    "\n",
    "print(weather_simulator())"
   ]
  },
  {
   "cell_type": "code",
   "execution_count": 12,
   "id": "ba42ac9f",
   "metadata": {},
   "outputs": [
    {
     "name": "stdout",
     "output_type": "stream",
     "text": [
      "6\n",
      "5\n",
      "4\n",
      "3\n",
      "2\n",
      "1\n",
      "Time up\n"
     ]
    }
   ],
   "source": [
    "import time\n",
    "\n",
    "def countdown(seconds):\n",
    "    while seconds > 0:\n",
    "        print(seconds)\n",
    "        time.sleep(1)\n",
    "        seconds-=1\n",
    "    print(\"Time up\")\n",
    "\n",
    "\n",
    "countdown(6)"
   ]
  }
 ],
 "metadata": {
  "kernelspec": {
   "display_name": "Python 3",
   "language": "python",
   "name": "python3"
  },
  "language_info": {
   "codemirror_mode": {
    "name": "ipython",
    "version": 3
   },
   "file_extension": ".py",
   "mimetype": "text/x-python",
   "name": "python",
   "nbconvert_exporter": "python",
   "pygments_lexer": "ipython3",
   "version": "3.11.0"
  }
 },
 "nbformat": 4,
 "nbformat_minor": 5
}
