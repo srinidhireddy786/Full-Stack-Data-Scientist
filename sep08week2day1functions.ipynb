{
 "cells": [
  {
   "cell_type": "code",
   "execution_count": 4,
   "id": "abaa272b",
   "metadata": {},
   "outputs": [
    {
     "name": "stdout",
     "output_type": "stream",
     "text": [
      "Yes\n"
     ]
    }
   ],
   "source": [
    "s=input(\"Enter the text\")\n",
    "s= s.replace(\" \", \"\").lower()\n",
    "rev=s[::-1]\n",
    "if(s==rev):\n",
    "    print(\"Yes\")\n",
    "else:\n",
    "    print(\"No\")"
   ]
  },
  {
   "cell_type": "code",
   "execution_count": 5,
   "id": "9e10956c",
   "metadata": {},
   "outputs": [
    {
     "name": "stdout",
     "output_type": "stream",
     "text": [
      "[2, 3, 5, 7]\n"
     ]
    }
   ],
   "source": [
    "def primes_up_to(n):\n",
    "    primes = []\n",
    "    for num in range(2, n + 1):\n",
    "        isprime = True\n",
    "        for i in range(2, int(num ** 0.5) + 1):\n",
    "            if num % i == 0:\n",
    "                isprime = False\n",
    "                break\n",
    "        if isprime:\n",
    "            primes.append(num)\n",
    "    return primes\n",
    "\n",
    "\n",
    "n=10\n",
    "print(primes_up_to(n))\n"
   ]
  },
  {
   "cell_type": "code",
   "execution_count": 8,
   "id": "48038b7d",
   "metadata": {},
   "outputs": [
    {
     "data": {
      "text/plain": [
       "True"
      ]
     },
     "execution_count": 8,
     "metadata": {},
     "output_type": "execute_result"
    }
   ],
   "source": [
    "def anagrams(word1,word2):\n",
    "    return sorted(word1.replace(\" \",\"\").lower())==sorted(word2.replace(\" \",\"\").lower())\n",
    "\n",
    "anagrams(\"hi\",\"ih\")"
   ]
  },
  {
   "cell_type": "code",
   "execution_count": null,
   "id": "de9350bc",
   "metadata": {},
   "outputs": [
    {
     "data": {
      "text/plain": [
       "(3, 7)"
      ]
     },
     "execution_count": 9,
     "metadata": {},
     "output_type": "execute_result"
    }
   ],
   "source": [
    "def check(text):\n",
    "    vowels='aeiouAEIOU'\n",
    "    vcount=0\n",
    "    ccount=0\n",
    "\n",
    "    for char in text:\n",
    "        if char.isalpha():\n",
    "            if char in vowels:\n",
    "                vcount=vcount+1\n",
    "            else:\n",
    "                ccount=ccount+1\n",
    "    return vcount,ccount\n",
    "\n",
    "check(\"cvr college\")"
   ]
  },
  {
   "cell_type": "code",
   "execution_count": 16,
   "id": "3c7d9065",
   "metadata": {},
   "outputs": [
    {
     "name": "stdout",
     "output_type": "stream",
     "text": [
      "cvrcollege\n"
     ]
    }
   ],
   "source": [
    "def longestword(sentence):\n",
    "    words=sentence.split()\n",
    "    longg=\"\"\n",
    "    for word in words:\n",
    "        if len(word)>len(longg):\n",
    "            longg=word\n",
    "    return longg\n",
    "\n",
    "\n",
    "print(longestword(\"this is cvrcollege\"))"
   ]
  }
 ],
 "metadata": {
  "kernelspec": {
   "display_name": "Python 3",
   "language": "python",
   "name": "python3"
  },
  "language_info": {
   "codemirror_mode": {
    "name": "ipython",
    "version": 3
   },
   "file_extension": ".py",
   "mimetype": "text/x-python",
   "name": "python",
   "nbconvert_exporter": "python",
   "pygments_lexer": "ipython3",
   "version": "3.11.0"
  }
 },
 "nbformat": 4,
 "nbformat_minor": 5
}
