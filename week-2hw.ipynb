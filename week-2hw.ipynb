{
 "cells": [
  {
   "cell_type": "code",
   "execution_count": null,
   "id": "8f5711b5",
   "metadata": {},
   "outputs": [
    {
     "name": "stdout",
     "output_type": "stream",
     "text": [
      "720\n",
      "24\n"
     ]
    }
   ],
   "source": [
    "def fact(n):\n",
    "    if n==0 or n==1:\n",
    "        return 1\n",
    "    else:\n",
    "        return n*fact(n-1)\n",
    "\n",
    "print(fact(6))\n",
    "print(fact(4))"
   ]
  },
  {
   "cell_type": "code",
   "execution_count": 3,
   "id": "7ed2796a",
   "metadata": {},
   "outputs": [
    {
     "name": "stdout",
     "output_type": "stream",
     "text": [
      "{'apple': 2, 'banana': 2, 'orange': 1}\n"
     ]
    }
   ],
   "source": [
    "from collections import Counter\n",
    "def unique(text):\n",
    "    words=text.split()\n",
    "    freq=Counter(words)\n",
    "    return dict(freq)\n",
    "\n",
    "\n",
    "text=\"apple banana apple orange banana\"\n",
    "print(unique(text))"
   ]
  },
  {
   "cell_type": "code",
   "execution_count": 5,
   "id": "42b03d1f",
   "metadata": {},
   "outputs": [
    {
     "name": "stdout",
     "output_type": "stream",
     "text": [
      "Grade:F\n"
     ]
    }
   ],
   "source": [
    "def grademarks(marks):\n",
    "    if not marks:\n",
    "        return \"No marks\"\n",
    "    avg=sum(marks)/len(marks)\n",
    "    if avg>=90:\n",
    "        grade=\"A+\"\n",
    "    elif avg>=80:\n",
    "        grade=\"A\"\n",
    "    elif avg>=70:\n",
    "        grade=\"B\"\n",
    "    elif avg>=60:\n",
    "        grade=\"C\"\n",
    "    else:\n",
    "        grade=\"F\"\n",
    "    return f\"Grade:{grade}\"\n",
    "\n",
    "\n",
    "print(grademarks(marks=[20,30,90]))"
   ]
  },
  {
   "cell_type": "code",
   "execution_count": 9,
   "id": "a600f469",
   "metadata": {},
   "outputs": [
    {
     "name": "stdout",
     "output_type": "stream",
     "text": [
      "7\n"
     ]
    }
   ],
   "source": [
    "def second_largest(nums):\n",
    "    unique_nums = list(set(nums))\n",
    "    if len(unique_nums) < 2:\n",
    "        return None\n",
    "    unique_nums.sort(reverse=True)\n",
    "    return unique_nums[1]\n",
    "\n",
    "\n",
    "print(second_largest([1,2,39,6,7]))\n"
   ]
  },
  {
   "cell_type": "code",
   "execution_count": 10,
   "id": "40533a8e",
   "metadata": {},
   "outputs": [
    {
     "name": "stdout",
     "output_type": "stream",
     "text": [
      "Text files: 1\n",
      "Python files: 1\n"
     ]
    }
   ],
   "source": [
    "import os\n",
    "\n",
    "def count_files():\n",
    "    textcount = 0\n",
    "    pycount = 0\n",
    "\n",
    "    for filename in os.listdir(\".\"):\n",
    "        if filename.endswith(\".txt\"):\n",
    "            textcount += 1\n",
    "        elif filename.endswith(\".py\"):\n",
    "            pycount += 1\n",
    "\n",
    "    print(f\"Text files: {textcount}\")\n",
    "    print(f\"Python files: {pycount}\")\n",
    "\n",
    "count_files()\n"
   ]
  },
  {
   "cell_type": "code",
   "execution_count": 11,
   "id": "cbeda48f",
   "metadata": {},
   "outputs": [
    {
     "name": "stdout",
     "output_type": "stream",
     "text": [
      "Mean = 67.80\n",
      "Median = 67\n",
      "Variance = 282.20\n",
      "None\n"
     ]
    }
   ],
   "source": [
    "import statistics\n",
    "\n",
    "def exam(scores):\n",
    "    meanv = statistics.mean(scores)\n",
    "    medianv = statistics.median(scores)\n",
    "    variancev = statistics.variance(scores)\n",
    "\n",
    "    print(f\"Mean = {meanv:.2f}\")\n",
    "    print(f\"Median = {medianv}\")\n",
    "    print(f\"Variance = {variancev:.2f}\")\n",
    "\n",
    "\n",
    "print(exam([56,78,90,48,67]))"
   ]
  },
  {
   "cell_type": "code",
   "execution_count": 12,
   "id": "921cedc0",
   "metadata": {},
   "outputs": [
    {
     "name": "stdout",
     "output_type": "stream",
     "text": [
      "Roots are: 2.0 and 1.0\n"
     ]
    }
   ],
   "source": [
    "import math\n",
    "\n",
    "def solvequadratic(a, b, c):\n",
    "    discriminant = b**2 - 4*a*c\n",
    "\n",
    "    if discriminant < 0:\n",
    "        return \"No real roots\"\n",
    "    elif discriminant == 0:\n",
    "        root = -b / (2*a)\n",
    "        return f\"Roots are: {root}\"\n",
    "    else:\n",
    "        root1 = (-b + math.sqrt(discriminant)) / (2*a)\n",
    "        root2 = (-b - math.sqrt(discriminant)) / (2*a)\n",
    "        return f\"Roots are: {root1} and {root2}\"\n",
    "\n",
    "\n",
    "print(solvequadratic(1,-3,2))"
   ]
  },
  {
   "cell_type": "code",
   "execution_count": 13,
   "id": "a91c1378",
   "metadata": {},
   "outputs": [
    {
     "name": "stdout",
     "output_type": "stream",
     "text": [
      "You chose Rock, Computer chose Scissors\n",
      "You Win!\n"
     ]
    }
   ],
   "source": [
    "import random\n",
    "\n",
    "def playrps(user_choice):\n",
    "    choices = [\"Rock\", \"Paper\", \"Scissors\"]\n",
    "    computerchoice = random.choice(choices)\n",
    "    print(f\"You chose {user_choice}, Computer chose {computerchoice}\")\n",
    "\n",
    "    if user_choice == computerchoice:\n",
    "        return \"It's a Tie!\"\n",
    "    elif (user_choice == \"Rock\" and computerchoice == \"Scissors\") or \\\n",
    "         (user_choice == \"Paper\" and computerchoice == \"Rock\") or \\\n",
    "         (user_choice == \"Scissors\" and computerchoice == \"Paper\"):\n",
    "        return \"You Win!\"\n",
    "    else:\n",
    "        return \"You Lose!\"\n",
    "\n",
    "userin=\"Rock\"\n",
    "result=playrps(userin)\n",
    "print(result)"
   ]
  },
  {
   "cell_type": "code",
   "execution_count": 14,
   "id": "dae6fd6e",
   "metadata": {},
   "outputs": [
    {
     "name": "stdout",
     "output_type": "stream",
     "text": [
      "Usage: python add.py num1 num2 num3\n"
     ]
    }
   ],
   "source": [
    "import sys\n",
    "\n",
    "\n",
    "if len(sys.argv) != 4:\n",
    "    print(\"Usage: python add.py num1 num2 num3\")\n",
    "else:\n",
    "\n",
    "    \n",
    "    num1 = int(sys.argv[1])\n",
    "    num2 = int(sys.argv[2])\n",
    "    num3 = int(sys.argv[3])\n",
    "\n",
    "    total = num1 + num2 + num3\n",
    "    print(f\"Sum = {total}\")\n"
   ]
  },
  {
   "cell_type": "code",
   "execution_count": 15,
   "id": "6ee47632",
   "metadata": {},
   "outputs": [
    {
     "name": "stdout",
     "output_type": "stream",
     "text": [
      "You borrowed Python 101\n",
      "You returned Python 101\n",
      "Available books: {'Python 101': 3, 'Data Science': 2}\n"
     ]
    }
   ],
   "source": [
    "class Library:\n",
    "    def __init__(self, books):\n",
    "        self.books = books\n",
    "\n",
    "    def borrow(self, title):\n",
    "        if title in self.books and self.books[title] > 0:\n",
    "            self.books[title] -= 1\n",
    "            return f\"You borrowed {title}\"\n",
    "        else:\n",
    "            return f\"Sorry, {title} is not available\"\n",
    "\n",
    "    def return_book(self, title):\n",
    "        if title in self.books:\n",
    "            self.books[title] += 1\n",
    "        else:\n",
    "            self.books[title] = 1\n",
    "        return f\"You returned {title}\"\n",
    "\n",
    "    def show_books(self):\n",
    "        print(f\"Available books: {self.books}\")\n",
    "\n",
    "lib = Library({\"Python 101\": 3,\"Data Science\": 2})\n",
    "\n",
    "print(lib.borrow(\"Python 101\"))\n",
    "print(lib.return_book(\"Python 101\"))\n",
    "lib.show_books()\n",
    "\n"
   ]
  },
  {
   "cell_type": "code",
   "execution_count": 16,
   "id": "bd6dca25",
   "metadata": {},
   "outputs": [
    {
     "name": "stdout",
     "output_type": "stream",
     "text": [
      "Access Granted\n",
      "Deposited 200\n",
      "Withdrew 100\n",
      "Balance: 600\n"
     ]
    }
   ],
   "source": [
    "class ATM:\n",
    "    def __init__(self, pin, balance=0):\n",
    "        self.pin = pin\n",
    "        self.balance = balance\n",
    "        self.is_authenticated = False\n",
    "\n",
    "    def login(self, entered_pin):\n",
    "        if entered_pin == self.pin:\n",
    "            self.is_authenticated = True\n",
    "            return \"Access Granted\"\n",
    "        else:\n",
    "            return \"Invalid PIN\"\n",
    "\n",
    "    def check_balance(self):\n",
    "        if self.is_authenticated:\n",
    "            return f\"Balance: {self.balance}\"\n",
    "        else:\n",
    "            return \"Access Denied. Please login first.\"\n",
    "\n",
    "    def deposit(self, amount):\n",
    "        if not self.is_authenticated:\n",
    "            return \"Access Denied. Please login first.\"\n",
    "        if amount > 0:\n",
    "            self.balance += amount\n",
    "            return f\"Deposited {amount}\"\n",
    "        return \"Invalid deposit amount\"\n",
    "\n",
    "    def withdraw(self, amount):\n",
    "        if not self.is_authenticated:\n",
    "            return \"Access Denied. Please login first.\"\n",
    "        if amount <= 0:\n",
    "            return \"Invalid withdrawal amount\"\n",
    "        if amount > self.balance:\n",
    "            return \"Insufficient funds\"\n",
    "        self.balance -= amount\n",
    "        return f\"Withdrew {amount}\"\n",
    "\n",
    "\n",
    "\n",
    "atm = ATM(1234, 500)\n",
    "\n",
    "print(atm.login(1234))\n",
    "print(atm.deposit(200))\n",
    "print(atm.withdraw(100))\n",
    "print(atm.check_balance())\n"
   ]
  },
  {
   "cell_type": "code",
   "execution_count": 17,
   "id": "62252bec",
   "metadata": {},
   "outputs": [
    {
     "name": "stdout",
     "output_type": "stream",
     "text": [
      "Dr. Smith is teaching Python\n",
      "Alice enrolled in Python\n",
      "Dr. Smith assigned: Project 1\n",
      "Alice submitted: Project 1\n"
     ]
    }
   ],
   "source": [
    "class Professor:\n",
    "    def __init__(self, name, subject):\n",
    "        self.name = name\n",
    "        self.subject = subject\n",
    "\n",
    "    def teach(self, course):\n",
    "        return f\"{self.name} is teaching {course}\"\n",
    "\n",
    "    def give_assignment(self, task):\n",
    "        return f\"{self.name} assigned: {task}\"\n",
    "\n",
    "\n",
    "class Student:\n",
    "    def __init__(self, name):\n",
    "        self.name = name\n",
    "        self.courses = []\n",
    "        self.assignments = []\n",
    "\n",
    "    def enroll(self, course):\n",
    "        self.courses.append(course)\n",
    "        return f\"{self.name} enrolled in {course}\"\n",
    "\n",
    "    def submit_assignment(self, task):\n",
    "        self.assignments.append(task)\n",
    "        return f\"{self.name} submitted: {task}\"\n",
    "\n",
    "\n",
    "prof = Professor(\"Dr. Smith\", \"Computer Science\")\n",
    "stud = Student(\"Alice\")\n",
    "\n",
    "print(prof.teach(\"Python\"))\n",
    "print(stud.enroll(\"Python\"))\n",
    "print(prof.give_assignment(\"Project 1\"))\n",
    "print(stud.submit_assignment(\"Project 1\"))\n"
   ]
  },
  {
   "cell_type": "code",
   "execution_count": 18,
   "id": "433be176",
   "metadata": {},
   "outputs": [
    {
     "name": "stdout",
     "output_type": "stream",
     "text": [
      "Booked 2 tickets for Avatar\n",
      "Cancelled 1 ticket for Avatar\n",
      "Movies: {'Avatar': 9, 'Batman': 5}\n"
     ]
    }
   ],
   "source": [
    "class Cinema:\n",
    "    def __init__(self, movies):\n",
    "        self.movies = movies\n",
    "\n",
    "    def book(self, movie, seats):\n",
    "        if movie in self.movies and self.movies[movie] >= seats:\n",
    "            self.movies[movie] -= seats\n",
    "            return f\"Booked {seats} tickets for {movie}\"\n",
    "        else:\n",
    "            return f\"Not enough seats available for {movie}\"\n",
    "\n",
    "    def cancel(self, movie, seats):\n",
    "        if movie in self.movies:\n",
    "            self.movies[movie] += seats\n",
    "            return f\"Cancelled {seats} ticket{'s' if seats > 1 else ''} for {movie}\"\n",
    "        else:\n",
    "            return f\"{movie} not found in cinema list\"\n",
    "\n",
    "    def show_movies(self):\n",
    "        print(f\"Movies: {self.movies}\")\n",
    "\n",
    "\n",
    "\n",
    "\n",
    "cinema = Cinema({\"Avatar\": 10, \"Batman\": 5})\n",
    "\n",
    "print(cinema.book(\"Avatar\", 2))\n",
    "print(cinema.cancel(\"Avatar\", 1))\n",
    "cinema.show_movies()\n"
   ]
  },
  {
   "cell_type": "code",
   "execution_count": 19,
   "id": "8e4b5036",
   "metadata": {},
   "outputs": [
    {
     "name": "stdout",
     "output_type": "stream",
     "text": [
      "Burger added\n",
      "Pizza added\n",
      "Pizza price updated to 250\n",
      "Burger removed\n",
      "Menu: {'Pizza': 250}\n"
     ]
    }
   ],
   "source": [
    "class Menu:\n",
    "    def __init__(self):\n",
    "        self.items = {}\n",
    "\n",
    "    def add_item(self, name, price):\n",
    "        self.items[name] = price\n",
    "        return f\"{name} added\"\n",
    "\n",
    "    def remove_item(self, name):\n",
    "        if name in self.items:\n",
    "            del self.items[name]\n",
    "            return f\"{name} removed\"\n",
    "        else:\n",
    "            return f\"{name} not found in menu\"\n",
    "\n",
    "    def update_price(self, name, new_price):\n",
    "        if name in self.items:\n",
    "            self.items[name] = new_price\n",
    "            return f\"{name} price updated to {new_price}\"\n",
    "        else:\n",
    "            return f\"{name} not found in menu\"\n",
    "\n",
    "    def show_menu(self):\n",
    "        print(f\"Menu: {self.items}\")\n",
    "\n",
    "\n",
    "menu = Menu()\n",
    "\n",
    "print(menu.add_item(\"Burger\", 100))\n",
    "print(menu.add_item(\"Pizza\", 200))\n",
    "print(menu.update_price(\"Pizza\", 250))\n",
    "print(menu.remove_item(\"Burger\"))\n",
    "menu.show_menu()\n"
   ]
  }
 ],
 "metadata": {
  "kernelspec": {
   "display_name": "Python 3",
   "language": "python",
   "name": "python3"
  },
  "language_info": {
   "codemirror_mode": {
    "name": "ipython",
    "version": 3
   },
   "file_extension": ".py",
   "mimetype": "text/x-python",
   "name": "python",
   "nbconvert_exporter": "python",
   "pygments_lexer": "ipython3",
   "version": "3.11.0"
  }
 },
 "nbformat": 4,
 "nbformat_minor": 5
}
